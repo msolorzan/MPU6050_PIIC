{
  "nbformat": 4,
  "nbformat_minor": 0,
  "metadata": {
    "colab": {
      "name": "RigidezBarra2DNodos.ipynb",
      "provenance": [],
      "collapsed_sections": [],
      "authorship_tag": "ABX9TyOXsiJZgEZItD39/nc/T8P+",
      "include_colab_link": true
    },
    "kernelspec": {
      "name": "python3",
      "display_name": "Python 3"
    }
  },
  "cells": [
    {
      "cell_type": "markdown",
      "metadata": {
        "id": "view-in-github",
        "colab_type": "text"
      },
      "source": [
        "<a href=\"https://colab.research.google.com/github/msolorzan/MPU6050_PIIC/blob/master/RigidezBarra2DNodos.ipynb\" target=\"_parent\"><img src=\"https://colab.research.google.com/assets/colab-badge.svg\" alt=\"Open In Colab\"/></a>"
      ]
    },
    {
      "cell_type": "code",
      "metadata": {
        "id": "R4_aBtbUfK7a",
        "colab_type": "code",
        "colab": {}
      },
      "source": [
        "import math as mt\n",
        "import numpy as np\n",
        "def RigidezBarra2DNodos(xi,yi,xj,yj,Em,A):\n",
        "   #FUNCIÓN QUE CONSISTE EN ANALIZAR LA RIGIDEZ DE UNA BARRA CONOCIENDO SUS COORDENADAS EN i Y j\n",
        "      #xi Y yi = COORDENADAS DEL NODO i\n",
        "      #xj Y yj = COORDENADAS DEL NODO j\n",
        "      #Em = MÓDULO DE ELASTICIDAD DEL MATERIAL\n",
        "      #A = ÁREA DE LA SECCIÒN DE LA BARRA\n",
        "      dx=xj-xi\n",
        "      dy=yj-yi\n",
        "      L=mt.sqrt(dy**2+dx**2)\n",
        "      c=dx/L\n",
        "      s=dy/L\n",
        "      transBarra=[[c*c,c*s,-c*c,-c*s],[c*s,s*s,-c*s,-s*s],[-c*c,-c*s,c*c,c*s],[-c*s,-s*s,c*s,s*s]]\n",
        "      Ke=np.dot(A*Em/L,transBarra)\n",
        "      return Ke"
      ],
      "execution_count": 61,
      "outputs": []
    },
    {
      "cell_type": "code",
      "metadata": {
        "id": "MMQLI_Ny0WzX",
        "colab_type": "code",
        "colab": {
          "base_uri": "https://localhost:8080/",
          "height": 221
        },
        "outputId": "eddfb45e-4bd0-451a-b252-075fd9c7e449"
      },
      "source": [
        "Ke1=RigidezBarra2DNodos(0,0,20,0,100,1)\n",
        "Ke2=RigidezBarra2DNodos(20,0,10,10,200,mt.sqrt(2))\n",
        "Ke3=RigidezBarra2DNodos(0,0,10,10,200,mt.sqrt(2))\n",
        "print(Ke1)\n",
        "print(Ke2)\n",
        "print(Ke3)"
      ],
      "execution_count": 63,
      "outputs": [
        {
          "output_type": "stream",
          "text": [
            "[[ 5.  0. -5.  0.]\n",
            " [ 0.  0.  0.  0.]\n",
            " [-5.  0.  5.  0.]\n",
            " [ 0.  0.  0.  0.]]\n",
            "[[ 10. -10. -10.  10.]\n",
            " [-10.  10.  10. -10.]\n",
            " [-10.  10.  10. -10.]\n",
            " [ 10. -10. -10.  10.]]\n",
            "[[ 10.  10. -10. -10.]\n",
            " [ 10.  10. -10. -10.]\n",
            " [-10. -10.  10.  10.]\n",
            " [-10. -10.  10.  10.]]\n"
          ],
          "name": "stdout"
        }
      ]
    },
    {
      "cell_type": "code",
      "metadata": {
        "id": "YGTX_e-R0yNK",
        "colab_type": "code",
        "colab": {}
      },
      "source": [
        ""
      ],
      "execution_count": null,
      "outputs": []
    }
  ]
}