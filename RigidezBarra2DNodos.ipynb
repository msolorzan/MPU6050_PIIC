{
  "nbformat": 4,
  "nbformat_minor": 0,
  "metadata": {
    "colab": {
      "name": "RigidezBarra2DNodos.ipynb",
      "provenance": [],
      "collapsed_sections": [],
      "authorship_tag": "ABX9TyODfxlCivX7TemV1K2VxSTc",
      "include_colab_link": true
    },
    "kernelspec": {
      "name": "python3",
      "display_name": "Python 3"
    }
  },
  "cells": [
    {
      "cell_type": "markdown",
      "metadata": {
        "id": "view-in-github",
        "colab_type": "text"
      },
      "source": [
        "<a href=\"https://colab.research.google.com/github/msolorzan/MPU6050_PIIC/blob/master/RigidezBarra2DNodos.ipynb\" target=\"_parent\"><img src=\"https://colab.research.google.com/assets/colab-badge.svg\" alt=\"Open In Colab\"/></a>"
      ]
    },
    {
      "cell_type": "code",
      "metadata": {
        "id": "R4_aBtbUfK7a",
        "colab_type": "code",
        "colab": {}
      },
      "source": [
        "import math as mt\n",
        "import numpy as np\n",
        "def RigidezBarra2DNodos(xi,yi,xj,yj,Em,A):\n",
        "   #FUNCIÓN QUE CONSISTE EN ANALIZAR LA RIGIDEZ DE UNA BARRA CONOCIENDO SUS COORDENADAS EN i Y j\n",
        "      #xi Y yi = COORDENADAS DEL NODO i\n",
        "      #xj Y yj = COORDENADAS DEL NODO j\n",
        "      #Em = MÓDULO DE ELASTICIDAD DEL MATERIAL\n",
        "      #A = ÁREA DE LA SECCIÒN DE LA BARRA\n",
        "      dx=xj-xi\n",
        "      dy=yj-yi\n",
        "      L=mt.sqrt(dy**2+dx**2)\n",
        "      c=dx/L\n",
        "      s=dy/L\n",
        "      transBarra=[[c*c,c*s,-c*c,-c*s],[c*s,s*s,-c*s,-s*s],[-c*c,-c*s,c*c,c*s],[-c*s,-s*s,c*s,s*s]]\n",
        "      Ke=(A*Em/L,transBarra)\n",
        "      return Ke"
      ],
      "execution_count": 55,
      "outputs": []
    }
  ]
}